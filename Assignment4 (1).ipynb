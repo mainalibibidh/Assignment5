{
 "cells": [
  {
   "cell_type": "code",
   "execution_count": 1,
   "metadata": {},
   "outputs": [],
   "source": [
    "# import required libraries\n",
    "import pandas as pd\n",
    "from sqlalchemy import create_engine\n",
    "import pymysql\n",
    "from sqlalchemy.exc import SQLAlchemyError\n",
    "import csv\n"
   ]
  },
  {
   "cell_type": "code",
   "execution_count": 2,
   "metadata": {},
   "outputs": [],
   "source": [
    "# create engine\n",
    "engine = create_engine('mysql+pymysql://root:@localhost:51211/test')"
   ]
  },
  {
   "cell_type": "code",
   "execution_count": 3,
   "metadata": {},
   "outputs": [],
   "source": [
    "# connection string\n",
    "conn = engine.connect()"
   ]
  },
  {
   "cell_type": "code",
   "execution_count": 4,
   "metadata": {},
   "outputs": [],
   "source": [
    "# Question 1\n",
    "# Create a function to calculate the distribution of channeltype from the top 1000 records.\n",
    "\n",
    "# method 1 from database\n",
    "def channeltype_distribution():\n",
    "    query1 = pd.read_sql('select * from youtube', conn);\n",
    "    print(query1.head(1000).channeltype.value_counts());\n"
   ]
  },
  {
   "cell_type": "code",
   "execution_count": 9,
   "metadata": {},
   "outputs": [],
   "source": [
    "# method 2 from csv file\n",
    "def channeltype_distribution2():\n",
    "    df = pd.read_csv ('youtube_dataset.csv', encoding='latin-1')\n",
    "    print(df.head(1000).channeltype.value_counts());\n",
    "    \n",
    "    # Question 2\n",
    "    # Load only the top 1000 records of the original 4000 into a separate CSV file, and to a database table.\n",
    "    \n",
    "    export_csv = df.head(1000).to_csv (r'Top1000Result.csv', index = None, header=True)\n",
    "    \n",
    "    load_into_database(engine, df.head(1000), \"YOUTUBE_Top_1000_Record\")"
   ]
  },
  {
   "cell_type": "code",
   "execution_count": 11,
   "metadata": {},
   "outputs": [],
   "source": [
    "def load_into_database(engine, datafrm, table_name):\n",
    "    \n",
    "    try:\n",
    "        \n",
    "        # dataframe columns with Comma-separated\n",
    "        cols = ','.join(list(datafrm.columns))\n",
    "        # SQL query to execute\n",
    "        sql = \"INSERT INTO %s(%s) VALUES(%%s,%%s,%%s,%%s,%%s, %%s,%%s,%%s,%%s,%%s, %%s,%%s,%%s,%%s,%%s, %%s,%%s,%%s,%%s,%%s)\" % (table_name, cols)\n",
    "        sql = sql.format(table_name)\n",
    "# Here, change your own path to read the temp file\n",
    "        with open('Top1000Result.csv', encoding='latin-1') as fh:\n",
    "            #sub_sample = [next(fh) for x in range(records)]\n",
    "            reader = csv.reader(fh)\n",
    "            next(reader)  # Skip firt line (headers)\n",
    "            data = list(reader)\n",
    "        engine.execute(sql, data)\n",
    "        print(\"Data inserted successfully...\")\n",
    "    except SQLAlchemyError as err:\n",
    "        print(\"Error while inserting to MySQL\")\n"
   ]
  },
  {
   "cell_type": "code",
   "execution_count": 12,
   "metadata": {},
   "outputs": [
    {
     "name": "stdout",
     "output_type": "stream",
     "text": [
      "Entertainment    284\n",
      "Music            240\n",
      "Games            115\n",
      "Comedy            76\n",
      "People            72\n",
      "Howto             49\n",
      "Film              36\n",
      "Education         30\n",
      "Tech              19\n",
      "News              17\n",
      "Sports            17\n",
      "Autos              3\n",
      "Animals            2\n",
      "Nonprofit          1\n",
      "Travel             1\n",
      "Name: channeltype, dtype: int64\n",
      "Data inserted successfully...\n"
     ]
    }
   ],
   "source": [
    "# callling the function \n",
    "channeltype_distribution()\n",
    "channeltype_distribution2()\n"
   ]
  },
  {
   "cell_type": "code",
   "execution_count": null,
   "metadata": {},
   "outputs": [],
   "source": [
    "load_into_database(engine, df.head(1000), \"YOUTUBE_Top_1000_Record\")"
   ]
  }
 ],
 "metadata": {
  "kernelspec": {
   "display_name": "Python 3",
   "language": "python",
   "name": "python3"
  },
  "language_info": {
   "codemirror_mode": {
    "name": "ipython",
    "version": 3
   },
   "file_extension": ".py",
   "mimetype": "text/x-python",
   "name": "python",
   "nbconvert_exporter": "python",
   "pygments_lexer": "ipython3",
   "version": "3.6.2"
  }
 },
 "nbformat": 4,
 "nbformat_minor": 4
}
