{
 "cells": [
  {
   "cell_type": "code",
   "execution_count": 1,
   "metadata": {},
   "outputs": [],
   "source": [
    "# import required libraries\n",
    "import pandas as pd\n",
    "from sqlalchemy import create_engine\n",
    "import pymysql"
   ]
  },
  {
   "cell_type": "code",
   "execution_count": 7,
   "metadata": {},
   "outputs": [],
   "source": [
    "# create engine\n",
    "engine = create_engine('mysql+pymysql://root:@localhost:51211/test')"
   ]
  },
  {
   "cell_type": "code",
   "execution_count": 9,
   "metadata": {},
   "outputs": [],
   "source": [
    "# connection string\n",
    "conn = engine.connect()"
   ]
  },
  {
   "cell_type": "code",
   "execution_count": 10,
   "metadata": {},
   "outputs": [
    {
     "name": "stdout",
     "output_type": "stream",
     "text": [
      "   avg(Global_sales)\n",
      "0           0.484040\n",
      "1           0.650039\n",
      "2           0.367881\n"
     ]
    }
   ],
   "source": [
    "# Question 1\n",
    "# Was the average of global sales higher before or after 2005 ?\n",
    "\n",
    "query1 = pd.read_sql('select avg(Global_sales) from videogamesales group by YEAR_OF_RELEASE < 2005', conn);\n",
    "print(query1)"
   ]
  },
  {
   "cell_type": "code",
   "execution_count": null,
   "metadata": {},
   "outputs": [],
   "source": [
    "# average for global sale before 2005 is 0.484040\n",
    "# average for global sale after 2005 is 0.650039"
   ]
  },
  {
   "cell_type": "code",
   "execution_count": 17,
   "metadata": {},
   "outputs": [],
   "source": [
    "# Question 2\n",
    "# Create a new column that labels records before 2005 as 'pre-2005' and after 2005 as 'post-2005'\n",
    "\n",
    "query2 = 'ALTER TABLE videogamesales ADD label_year VARCHAR(20)';\n",
    "conn.execute(query2);\n",
    "\n",
    "query3 = '''UPDATE videogamesales SET label_year = CASE \n",
    "                                                             WHEN YEAR_OF_RELEASE < 2005  THEN 'pre-2005' \n",
    "                                                             WHEN YEAR_OF_RELEASE >= 2005  THEN 'post-2005'\n",
    "                                                             END'''\n",
    "conn.execute(query3);\n"
   ]
  },
  {
   "cell_type": "code",
   "execution_count": 18,
   "metadata": {},
   "outputs": [
    {
     "name": "stdout",
     "output_type": "stream",
     "text": [
      "      label_year\n",
      "0      post-2005\n",
      "1       pre-2005\n",
      "2      post-2005\n",
      "3      post-2005\n",
      "4       pre-2005\n",
      "...          ...\n",
      "16714  post-2005\n",
      "16715  post-2005\n",
      "16716  post-2005\n",
      "16717   pre-2005\n",
      "16718  post-2005\n",
      "\n",
      "[16719 rows x 1 columns]\n"
     ]
    }
   ],
   "source": [
    "query4 = pd.read_sql('select label_year from videogamesales', conn);\n",
    "print(query4)"
   ]
  },
  {
   "cell_type": "code",
   "execution_count": null,
   "metadata": {},
   "outputs": [],
   "source": []
  }
 ],
 "metadata": {
  "kernelspec": {
   "display_name": "Python 3",
   "language": "python",
   "name": "python3"
  },
  "language_info": {
   "codemirror_mode": {
    "name": "ipython",
    "version": 3
   },
   "file_extension": ".py",
   "mimetype": "text/x-python",
   "name": "python",
   "nbconvert_exporter": "python",
   "pygments_lexer": "ipython3",
   "version": "3.6.2"
  }
 },
 "nbformat": 4,
 "nbformat_minor": 4
}
